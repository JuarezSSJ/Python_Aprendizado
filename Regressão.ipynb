{
  "nbformat": 4,
  "nbformat_minor": 0,
  "metadata": {
    "colab": {
      "provenance": [],
      "authorship_tag": "ABX9TyO6XPtN8ua5E8XhtvD3Cwj4",
      "include_colab_link": true
    },
    "kernelspec": {
      "name": "python3",
      "display_name": "Python 3"
    },
    "language_info": {
      "name": "python"
    }
  },
  "cells": [
    {
      "cell_type": "markdown",
      "metadata": {
        "id": "view-in-github",
        "colab_type": "text"
      },
      "source": [
        "<a href=\"https://colab.research.google.com/github/JuarezSSJ/Python_Aprendizado/blob/main/Regress%C3%A3o.ipynb\" target=\"_parent\"><img src=\"https://colab.research.google.com/assets/colab-badge.svg\" alt=\"Open In Colab\"/></a>"
      ]
    },
    {
      "cell_type": "code",
      "execution_count": null,
      "metadata": {
        "id": "u7N8ao0vg46M"
      },
      "outputs": [],
      "source": [
        "from sklearn.datasets import load_digits\n",
        "import matplotlib.pyplot as plt\n",
        "import numpy as np\n",
        "digitos = load_digits()"
      ]
    },
    {
      "cell_type": "code",
      "source": [
        "print(\"Shape dos dados de imagens: {}\".format(digitos.data.shape))\n",
        "\n",
        "print(\"Shape dos dados rotulados: {}\".format(digitos.target.shape))\n"
      ],
      "metadata": {
        "id": "d5PukZAMh_Vd"
      },
      "execution_count": null,
      "outputs": []
    },
    {
      "cell_type": "code",
      "source": [
        "plt.figure (figsize=(14,4))\n",
        "for index, (imagem, rotulo) in enumerate (zip(digitos.data[0:5], digitos.target[0:5])):\n",
        "  plt.subplot(1, 5, index + 1)\n",
        "  plt.imshow(np.reshape(imagem, (8, 8)), cmap = plt.cm.gray)\n",
        "\n",
        "  plt.title(\"treinamento: {}\\n\".format(rotulo, fontsize = 15))"
      ],
      "metadata": {
        "colab": {
          "base_uri": "https://localhost:8080/",
          "height": 290
        },
        "id": "TDIEmBz4juOU",
        "outputId": "d6fc1d8c-f20c-40d7-f730-1c4ebb66da45"
      },
      "execution_count": null,
      "outputs": [
        {
          "output_type": "display_data",
          "data": {
            "text/plain": [
              "<Figure size 1400x400 with 5 Axes>"
            ],
            "image/png": "[encoded data removed]"
          },
          "metadata": {}
        }
      ]
    },
    {
      "cell_type": "code",
      "source": [
        "def foo(a):\n",
        "\n",
        "   return a + a + a\n",
        "\n",
        "b = 1\n",
        "\n",
        "foo(b)\n",
        "\n",
        "foo(b)\n",
        "\n",
        "foo(b)\n",
        "\n",
        "print(b)"
      ],
      "metadata": {
        "colab": {
          "base_uri": "https://localhost:8080/"
        },
        "id": "D2nU1NxkOBxD",
        "outputId": "f767b62c-b3b7-454d-a042-07f167ae5e21"
      },
      "execution_count": null,
      "outputs": [
        {
          "output_type": "stream",
          "name": "stdout",
          "text": [
            "1\n"
          ]
        }
      ]
    },
    {
      "cell_type": "code",
      "source": [
        "chave = 0\n",
        "for x in range(100):\n",
        "  nove = str(x)\n",
        "  for x in nove:\n",
        "    if x == \"9\":\n",
        "      chave += 1\n",
        "print(chave)"
      ],
      "metadata": {
        "colab": {
          "base_uri": "https://localhost:8080/"
        },
        "id": "V7iWdwb_COYS",
        "outputId": "21697e9e-075b-4c9b-e8f0-2d1a997bf3a4"
      },
      "execution_count": null,
      "outputs": [
        {
          "output_type": "stream",
          "name": "stdout",
          "text": [
            "20\n"
          ]
        }
      ]
    }
  ]
}